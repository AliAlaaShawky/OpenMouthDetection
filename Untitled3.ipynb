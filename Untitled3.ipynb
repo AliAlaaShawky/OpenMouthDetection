{
 "cells": [
  {
   "cell_type": "code",
   "execution_count": 2,
   "id": "e30f6da6",
   "metadata": {},
   "outputs": [],
   "source": [
    "from keras.preprocessing.image import load_img\n",
    "from keras.preprocessing.image import img_to_array\n",
    "from keras.applications.efficientnet import EfficientNet\n",
    "from keras.preprocessing import image\n",
    "from keras.applications.efficientnet import preprocess_input, decode_predictions\n",
    "import tensorflow as tf\n",
    "from tensorflow.keras.preprocessing.image import ImageDataGenerator\n",
    "from tensorflow.keras.layers import AveragePooling2D\n",
    "from tensorflow.keras.layers import Dropout\n",
    "from tensorflow.keras.layers import Flatten\n",
    "from tensorflow.keras.layers import Dense\n",
    "from tensorflow.keras.layers import Input\n",
    "from tensorflow.keras.models import Model\n",
    "from tensorflow.keras.optimizers import Adam\n",
    "from tensorflow.keras.utils import to_categorical\n",
    "from sklearn.preprocessing import LabelBinarizer\n",
    "from sklearn.model_selection import train_test_split\n",
    "from sklearn.metrics import classification_report\n",
    "from imutils import paths\n",
    "import matplotlib.pyplot as plt\n",
    "import numpy as np\n",
    "import os"
   ]
  },
  {
   "cell_type": "code",
   "execution_count": 3,
   "id": "dcf8f3d1",
   "metadata": {},
   "outputs": [],
   "source": [
    "INIT_LR = 1e-4\n",
    "EPOCHS = 20\n",
    "BS = 32"
   ]
  },
  {
   "cell_type": "code",
   "execution_count": 4,
   "id": "55a03b49",
   "metadata": {},
   "outputs": [],
   "source": [
    "DIRECTORY = r\"C:/Users/xps/Desktop/mouth/dataset\"\n",
    "CATEGORIES = [\"silent\", \"speak\"]"
   ]
  },
  {
   "cell_type": "code",
   "execution_count": 5,
   "id": "28df5c68",
   "metadata": {},
   "outputs": [],
   "source": [
    "data = []\n",
    "labels = []\n",
    "\n",
    "for category in CATEGORIES:\n",
    "    path = os.path.join(DIRECTORY, category)\n",
    "    for img in os.listdir(path):\n",
    "            img_path = os.path.join(path, img)\n",
    "            image = load_img(img_path, target_size=(224, 224))\n",
    "            image = img_to_array(image)\n",
    "            image = preprocess_input(image)\n",
    "\n",
    "            data.append(image)\n",
    "            labels.append(category)"
   ]
  },
  {
   "cell_type": "code",
   "execution_count": 6,
   "id": "ab69b72a",
   "metadata": {},
   "outputs": [],
   "source": [
    "lb = LabelBinarizer()\n",
    "labels = lb.fit_transform(labels)\n",
    "labels = to_categorical(labels)\n",
    "\n",
    "data = np.array(data, dtype=\"float32\")\n",
    "labels = np.array(labels)"
   ]
  },
  {
   "cell_type": "code",
   "execution_count": 7,
   "id": "290aa3b3",
   "metadata": {},
   "outputs": [],
   "source": [
    "(trainX, testX, trainY, testY) = train_test_split(data, labels,\n",
    "        test_size=0.20, stratify=labels, random_state=42)"
   ]
  },
  {
   "cell_type": "code",
   "execution_count": 8,
   "id": "19992c2b",
   "metadata": {},
   "outputs": [],
   "source": [
    "aug = ImageDataGenerator(\n",
    "        rotation_range=20,\n",
    "        zoom_range=0.15,\n",
    "        \n",
    "        fill_mode=\"nearest\")"
   ]
  },
  {
   "cell_type": "code",
   "execution_count": 9,
   "id": "439eef06",
   "metadata": {},
   "outputs": [],
   "source": [
    "baseModel=tf.keras.applications.efficientnet.EfficientNetB0(\n",
    "    include_top=False,\n",
    "    weights='imagenet',\n",
    "    input_tensor=Input(shape=(224, 224, 3))\n",
    "    \n",
    ")"
   ]
  },
  {
   "cell_type": "code",
   "execution_count": 10,
   "id": "15e6bc61",
   "metadata": {},
   "outputs": [],
   "source": [
    "headModel = baseModel.output\n",
    "headModel = AveragePooling2D(pool_size=(7, 7))(headModel)\n",
    "headModel = Flatten(name=\"flatten\")(headModel)\n",
    "headModel = Dense(128, activation=\"relu\")(headModel)\n",
    "headModel = Dropout(0.5)(headModel)\n",
    "headModel = Dense(2, activation=\"softmax\")(headModel)"
   ]
  },
  {
   "cell_type": "code",
   "execution_count": 11,
   "id": "0ae28ea4",
   "metadata": {},
   "outputs": [],
   "source": [
    "model = Model(inputs=baseModel.input, outputs=headModel)\n"
   ]
  },
  {
   "cell_type": "code",
   "execution_count": 12,
   "id": "fba03f10",
   "metadata": {},
   "outputs": [],
   "source": [
    "for layer in baseModel.layers:\n",
    "    layer.trainable = False"
   ]
  },
  {
   "cell_type": "code",
   "execution_count": 13,
   "id": "9c25a4d3",
   "metadata": {},
   "outputs": [
    {
     "name": "stdout",
     "output_type": "stream",
     "text": [
      "[INFO] compiling model...\n"
     ]
    },
    {
     "name": "stderr",
     "output_type": "stream",
     "text": [
      "c:\\Users\\xps\\AppData\\Local\\Programs\\Python\\Python310\\lib\\site-packages\\keras\\optimizer_v2\\adam.py:105: UserWarning: The `lr` argument is deprecated, use `learning_rate` instead.\n",
      "  super(Adam, self).__init__(name, **kwargs)\n"
     ]
    }
   ],
   "source": [
    "# compile model\n",
    "print(\"[INFO] compiling model...\")\n",
    "opt = Adam(lr=INIT_LR, decay=INIT_LR / EPOCHS)\n",
    "model.compile(loss=\"binary_crossentropy\", optimizer=opt,\n",
    "    metrics=[\"accuracy\"])"
   ]
  },
  {
   "cell_type": "code",
   "execution_count": 14,
   "id": "762a3e27",
   "metadata": {},
   "outputs": [
    {
     "name": "stdout",
     "output_type": "stream",
     "text": [
      "[INFO] training head...\n",
      "Epoch 1/20\n",
      "98/98 [==============================] - 209s 2s/step - loss: 0.5571 - accuracy: 0.7650 - val_loss: 0.3915 - val_accuracy: 0.9185\n",
      "Epoch 2/20\n",
      "98/98 [==============================] - 198s 2s/step - loss: 0.3642 - accuracy: 0.8828 - val_loss: 0.2596 - val_accuracy: 0.9465\n",
      "Epoch 3/20\n",
      "98/98 [==============================] - 195s 2s/step - loss: 0.2721 - accuracy: 0.9272 - val_loss: 0.1942 - val_accuracy: 0.9592\n",
      "Epoch 4/20\n",
      "98/98 [==============================] - 163s 2s/step - loss: 0.2102 - accuracy: 0.9440 - val_loss: 0.1510 - val_accuracy: 0.9682\n",
      "Epoch 5/20\n",
      "98/98 [==============================] - 156s 2s/step - loss: 0.1756 - accuracy: 0.9530 - val_loss: 0.1255 - val_accuracy: 0.9771\n",
      "Epoch 6/20\n",
      "98/98 [==============================] - 155s 2s/step - loss: 0.1467 - accuracy: 0.9633 - val_loss: 0.1041 - val_accuracy: 0.9834\n",
      "Epoch 7/20\n",
      "98/98 [==============================] - 155s 2s/step - loss: 0.1332 - accuracy: 0.9627 - val_loss: 0.0849 - val_accuracy: 0.9873\n",
      "Epoch 8/20\n",
      "98/98 [==============================] - 154s 2s/step - loss: 0.1152 - accuracy: 0.9720 - val_loss: 0.0781 - val_accuracy: 0.9860\n",
      "Epoch 9/20\n",
      "98/98 [==============================] - 156s 2s/step - loss: 0.0937 - accuracy: 0.9775 - val_loss: 0.0684 - val_accuracy: 0.9873\n",
      "Epoch 10/20\n",
      "98/98 [==============================] - 161s 2s/step - loss: 0.0856 - accuracy: 0.9781 - val_loss: 0.0635 - val_accuracy: 0.9873\n",
      "Epoch 11/20\n",
      "98/98 [==============================] - 189s 2s/step - loss: 0.0764 - accuracy: 0.9807 - val_loss: 0.0559 - val_accuracy: 0.9885\n",
      "Epoch 12/20\n",
      "98/98 [==============================] - 191s 2s/step - loss: 0.0691 - accuracy: 0.9862 - val_loss: 0.0508 - val_accuracy: 0.9885\n",
      "Epoch 13/20\n",
      "98/98 [==============================] - 189s 2s/step - loss: 0.0697 - accuracy: 0.9816 - val_loss: 0.0495 - val_accuracy: 0.9873\n",
      "Epoch 14/20\n",
      "98/98 [==============================] - 190s 2s/step - loss: 0.0573 - accuracy: 0.9874 - val_loss: 0.0405 - val_accuracy: 0.9949\n",
      "Epoch 15/20\n",
      "98/98 [==============================] - 188s 2s/step - loss: 0.0606 - accuracy: 0.9842 - val_loss: 0.0480 - val_accuracy: 0.9873\n",
      "Epoch 16/20\n",
      "98/98 [==============================] - 189s 2s/step - loss: 0.0555 - accuracy: 0.9852 - val_loss: 0.0437 - val_accuracy: 0.9885\n",
      "Epoch 17/20\n",
      "98/98 [==============================] - 189s 2s/step - loss: 0.0506 - accuracy: 0.9874 - val_loss: 0.0393 - val_accuracy: 0.9898\n",
      "Epoch 18/20\n",
      "98/98 [==============================] - 157s 2s/step - loss: 0.0455 - accuracy: 0.9910 - val_loss: 0.0375 - val_accuracy: 0.9898\n",
      "Epoch 19/20\n",
      "98/98 [==============================] - 156s 2s/step - loss: 0.0438 - accuracy: 0.9897 - val_loss: 0.0292 - val_accuracy: 0.9962\n",
      "Epoch 20/20\n",
      "98/98 [==============================] - 182s 2s/step - loss: 0.0459 - accuracy: 0.9884 - val_loss: 0.0299 - val_accuracy: 0.9962\n"
     ]
    }
   ],
   "source": [
    "# train the head of the network\n",
    "print(\"[INFO] training head...\")\n",
    "H = model.fit(\n",
    "    aug.flow(trainX, trainY, batch_size=BS),\n",
    "    steps_per_epoch=len(trainX) // BS,\n",
    "    validation_data=(testX, testY),\n",
    "    validation_steps=len(testX) // BS,\n",
    "    epochs=EPOCHS)"
   ]
  },
  {
   "cell_type": "code",
   "execution_count": 15,
   "id": "396b15d8",
   "metadata": {},
   "outputs": [],
   "source": [
    "predIdxs = model.predict(testX, batch_size=BS)\n"
   ]
  },
  {
   "cell_type": "code",
   "execution_count": 16,
   "id": "8a2ce204",
   "metadata": {},
   "outputs": [],
   "source": [
    "predIdxs = np.argmax(predIdxs, axis=1)\n"
   ]
  },
  {
   "cell_type": "code",
   "execution_count": 17,
   "id": "34523559",
   "metadata": {},
   "outputs": [
    {
     "name": "stdout",
     "output_type": "stream",
     "text": [
      "              precision    recall  f1-score   support\n",
      "\n",
      "      silent       1.00      0.99      1.00       384\n",
      "       speak       0.99      1.00      1.00       401\n",
      "\n",
      "    accuracy                           1.00       785\n",
      "   macro avg       1.00      1.00      1.00       785\n",
      "weighted avg       1.00      1.00      1.00       785\n",
      "\n"
     ]
    }
   ],
   "source": [
    "print(classification_report(testY.argmax(axis=1), predIdxs,\n",
    "\ttarget_names=lb.classes_))"
   ]
  },
  {
   "cell_type": "code",
   "execution_count": 18,
   "id": "cce9dc61",
   "metadata": {},
   "outputs": [
    {
     "name": "stdout",
     "output_type": "stream",
     "text": [
      "[INFO] saving mask detector model...\n"
     ]
    }
   ],
   "source": [
    "print(\"[INFO] saving mask detector model...\")\n",
    "model.save(\"efficientnet.model\", save_format=\"h5\")"
   ]
  },
  {
   "cell_type": "code",
   "execution_count": 19,
   "id": "742ffb58",
   "metadata": {},
   "outputs": [
    {
     "data": {
      "image/png": "[encoded data removed]",
      "text/plain": [
       "<Figure size 432x288 with 1 Axes>"
      ]
     },
     "metadata": {},
     "output_type": "display_data"
    }
   ],
   "source": [
    "N = EPOCHS\n",
    "plt.style.use(\"ggplot\")\n",
    "plt.figure()\n",
    "plt.plot(np.arange(0, N), H.history[\"loss\"], label=\"train_loss\")\n",
    "plt.plot(np.arange(0, N), H.history[\"val_loss\"], label=\"val_loss\")\n",
    "plt.plot(np.arange(0, N), H.history[\"accuracy\"], label=\"train_acc\")\n",
    "plt.plot(np.arange(0, N), H.history[\"val_accuracy\"], label=\"val_acc\")\n",
    "plt.title(\"Training Loss and Accuracy\")\n",
    "plt.xlabel(\"Epoch #\")\n",
    "plt.ylabel(\"Loss/Accuracy\")\n",
    "plt.legend(loc=\"lower left\")\n",
    "plt.savefig(\"plot.png\")"
   ]
  },
  {
   "cell_type": "code",
   "execution_count": 23,
   "id": "1974bc97",
   "metadata": {},
   "outputs": [],
   "source": [
    "from keras.models import load_model\n",
    "from keras.preprocessing.image import img_to_array\n",
    "from keras.preprocessing import image\n",
    "import cv2\n",
    "import numpy as np\n",
    "import dlib\n",
    "from tensorflow.keras.applications.resnet50 import ResNet50,preprocess_input, decode_predictions\n",
    "\n",
    "#from keras.applications.efficientnet import preprocess_input, decode_predictions\n",
    "classifier =load_model(\"ResNet50.model\")\n",
    "face_detection=cv2.CascadeClassifier('haarcascade_frontalface_default.xml')\n",
    "path=\"C:/Users/xps/Desktop/test/shape_predictor_68_face_landmarks.dat\"\n",
    "face_detector=dlib.shape_predictor(path)\n",
    "detector=dlib.get_frontal_face_detector()\n",
    "cap = cv2.VideoCapture(0)\n",
    "while True:\n",
    "    # Grab a single frame of video\n",
    "    ret, frame = cap.read()\n",
    "    if ret== False :\n",
    "        break\n",
    "    class_labels=['silent','speak']\n",
    "    gray=cv2.cvtColor(frame,cv2.COLOR_BGR2GRAY)\n",
    "    face=detector(gray)\n",
    "    faces = face_detection.detectMultiScale(gray,1.3,4)\n",
    "    for fac in face:\n",
    "            landmarks=face_detector(gray,fac)\n",
    "            x5=landmarks.part(3).x\n",
    "            y5=landmarks.part(3).y\n",
    "\n",
    "            for (x,y,w,h) in faces:\n",
    "                \n",
    "                cv2.rectangle(frame,(x5,y5),(x+w,y+h),(0,255,0),2)\n",
    "                roi_gray = frame[y5:y+h,x5:x+w]\n",
    "                if np.sum([roi_gray])!=0:\n",
    "                    roi_gray = cv2.resize(roi_gray,(224,224),interpolation=cv2.INTER_AREA)\n",
    "\n",
    "                    roi = roi_gray.astype('float')/255.0\n",
    "                    roi = img_to_array(roi)\n",
    "                    roi=preprocess_input(roi)\n",
    "                    roi = np.expand_dims(roi,axis=0)\n",
    "\n",
    "                # make a prediction on the ROI, then lookup the class\n",
    "\n",
    "                    preds = classifier.predict(roi)\n",
    "                    for pred in preds:\n",
    "                        (silent, speak) = pred\n",
    "                        label = \"silent\" if silent > speak else \"speak\"\n",
    "                    label = \"{}: {:.2f}%\".format(label, max(silent, speak) * 100)\n",
    "                    \n",
    "                    \n",
    "                    label_position = (x,y)\n",
    "                    cv2.putText(frame,label,label_position,cv2.FONT_HERSHEY_SIMPLEX,1,(0,255,0),1)\n",
    "                else:\n",
    "                    cv2.putText(frame,'No Face Found',(20,60),cv2.FONT_HERSHEY_SIMPLEX,2,(0,255,0),3)\n",
    "    cv2.imshow('Emotion Detector',frame)\n",
    "    if cv2.waitKey(1) & 0xFF == ord('q'):\n",
    "        break\n",
    "\n",
    "cap.release()\n",
    "cv2.destroyAllWindows()"
   ]
  },
  {
   "cell_type": "code",
   "execution_count": 5,
   "id": "127547c4",
   "metadata": {},
   "outputs": [],
   "source": []
  },
  {
   "cell_type": "code",
   "execution_count": null,
   "id": "69cca627",
   "metadata": {},
   "outputs": [],
   "source": []
  }
 ],
 "metadata": {
  "interpreter": {
   "hash": "10c443a2d889fd6c657ec21f118344e9972d55984ca02fde88953ef6c89dc2c7"
  },
  "kernelspec": {
   "display_name": "Python 3 (ipykernel)",
   "language": "python",
   "name": "python3"
  },
  "language_info": {
   "codemirror_mode": {
    "name": "ipython",
    "version": 3
   },
   "file_extension": ".py",
   "mimetype": "text/x-python",
   "name": "python",
   "nbconvert_exporter": "python",
   "pygments_lexer": "ipython3",
   "version": "3.9.7"
  }
 },
 "nbformat": 4,
 "nbformat_minor": 5
}
