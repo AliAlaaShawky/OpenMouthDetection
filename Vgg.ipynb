{
 "cells": [
  {
   "cell_type": "code",
   "execution_count": 1,
   "id": "ec95522e",
   "metadata": {},
   "outputs": [],
   "source": [
    "from keras.preprocessing.image import load_img\n",
    "from keras.preprocessing.image import img_to_array\n",
    "from keras.applications.vgg16 import preprocess_input\n",
    "from keras.applications.vgg16 import decode_predictions\n",
    "from keras.applications.vgg16 import VGG16\n",
    "from tensorflow.keras.preprocessing.image import ImageDataGenerator\n",
    "from tensorflow.keras.layers import AveragePooling2D\n",
    "from tensorflow.keras.layers import Dropout\n",
    "from tensorflow.keras.layers import Flatten\n",
    "from tensorflow.keras.layers import Dense\n",
    "from tensorflow.keras.layers import Input\n",
    "from tensorflow.keras.models import Model\n",
    "from tensorflow.keras.optimizers import Adam#\n",
    "from tensorflow.keras.utils import to_categorical\n",
    "from sklearn.preprocessing import LabelBinarizer\n",
    "from sklearn.model_selection import train_test_split\n",
    "from sklearn.metrics import classification_report\n",
    "from imutils import paths\n",
    "import matplotlib.pyplot as plt\n",
    "import numpy as np\n",
    "import os"
   ]
  },
  {
   "cell_type": "code",
   "execution_count": 2,
   "id": "84787dc6",
   "metadata": {},
   "outputs": [],
   "source": [
    "INIT_LR = 1e-4\n",
    "EPOCHS = 20\n",
    "BS = 32"
   ]
  },
  {
   "cell_type": "code",
   "execution_count": 5,
   "id": "023731ba",
   "metadata": {},
   "outputs": [],
   "source": [
    "DIRECTORY = r\"C:/Users/xps/Desktop/mouth/dataset\"\n",
    "CATEGORIES = [\"silent\", \"speak\"]"
   ]
  },
  {
   "cell_type": "code",
   "execution_count": 6,
   "id": "6f0350a7",
   "metadata": {},
   "outputs": [],
   "source": [
    "data = []\n",
    "labels = []\n",
    "\n",
    "for category in CATEGORIES:\n",
    "    path = os.path.join(DIRECTORY, category)\n",
    "    for img in os.listdir(path):\n",
    "        img_path = os.path.join(path, img)\n",
    "        image = load_img(img_path, target_size=(224, 224))\n",
    "        image = img_to_array(image)\n",
    "        image = preprocess_input(image)\n",
    "\n",
    "        data.append(image)\n",
    "        labels.append(category)"
   ]
  },
  {
   "cell_type": "code",
   "execution_count": 7,
   "id": "ae6725f8",
   "metadata": {},
   "outputs": [],
   "source": [
    "lb = LabelBinarizer()\n",
    "labels = lb.fit_transform(labels)\n",
    "labels = to_categorical(labels)\n",
    "\n",
    "data = np.array(data, dtype=\"float32\")\n",
    "labels = np.array(labels)"
   ]
  },
  {
   "cell_type": "code",
   "execution_count": 8,
   "id": "622a7e69",
   "metadata": {},
   "outputs": [],
   "source": [
    "(trainX, testX, trainY, testY) = train_test_split(data, labels,\n",
    "\ttest_size=0.20, stratify=labels, random_state=42)"
   ]
  },
  {
   "cell_type": "code",
   "execution_count": 9,
   "id": "7cc03d10",
   "metadata": {},
   "outputs": [],
   "source": [
    "aug = ImageDataGenerator(\n",
    "    rotation_range=20,\n",
    "    zoom_range=0.15,\n",
    "    width_shift_range=0.2,\n",
    "    height_shift_range=0.2,\n",
    "    shear_range=0.15,\n",
    "    horizontal_flip=True,\n",
    "    fill_mode=\"nearest\")"
   ]
  },
  {
   "cell_type": "code",
   "execution_count": 11,
   "id": "8ae012cc",
   "metadata": {},
   "outputs": [],
   "source": [
    "baseModel = VGG16(weights=\"imagenet\", include_top=False,\n",
    "    input_tensor=Input(shape=(224, 224, 3)))\n"
   ]
  },
  {
   "cell_type": "code",
   "execution_count": 12,
   "id": "5508b027",
   "metadata": {},
   "outputs": [],
   "source": [
    "headModel = baseModel.output\n",
    "headModel = AveragePooling2D(pool_size=(7, 7))(headModel)\n",
    "headModel = Flatten(name=\"flatten\")(headModel)\n",
    "headModel = Dense(128, activation=\"relu\")(headModel)\n",
    "headModel = Dropout(0.5)(headModel)\n",
    "headModel = Dense(2, activation=\"softmax\")(headModel)"
   ]
  },
  {
   "cell_type": "code",
   "execution_count": 13,
   "id": "e935417d",
   "metadata": {},
   "outputs": [],
   "source": [
    "model = Model(inputs=baseModel.input, outputs=headModel)\n"
   ]
  },
  {
   "cell_type": "code",
   "execution_count": 14,
   "id": "d4646f46",
   "metadata": {},
   "outputs": [],
   "source": [
    "for layer in baseModel.layers:\n",
    "    layer.trainable = False"
   ]
  },
  {
   "cell_type": "code",
   "execution_count": 15,
   "id": "792b4976",
   "metadata": {},
   "outputs": [
    {
     "name": "stdout",
     "output_type": "stream",
     "text": [
      "[INFO] compiling model...\n"
     ]
    }
   ],
   "source": [
    "# compile model\n",
    "print(\"[INFO] compiling model...\")\n",
    "opt = Adam(learning_rate=INIT_LR, decay=INIT_LR / EPOCHS)\n",
    "model.compile(loss=\"binary_crossentropy\", optimizer=opt,\n",
    "        metrics=[\"accuracy\"])"
   ]
  },
  {
   "cell_type": "code",
   "execution_count": 16,
   "id": "2920e4f3",
   "metadata": {},
   "outputs": [
    {
     "name": "stdout",
     "output_type": "stream",
     "text": [
      "[INFO] training head...\n",
      "Epoch 1/20\n",
      "98/98 [==============================] - 626s 6s/step - loss: 1.0053 - accuracy: 0.6172 - val_loss: 0.3449 - val_accuracy: 0.8777\n",
      "Epoch 2/20\n",
      "98/98 [==============================] - 564s 6s/step - loss: 0.5236 - accuracy: 0.7853 - val_loss: 0.2259 - val_accuracy: 0.9172\n",
      "Epoch 3/20\n",
      "98/98 [==============================] - 593s 6s/step - loss: 0.3657 - accuracy: 0.8622 - val_loss: 0.1789 - val_accuracy: 0.9389\n",
      "Epoch 4/20\n",
      "98/98 [==============================] - 514s 5s/step - loss: 0.2955 - accuracy: 0.8915 - val_loss: 0.1456 - val_accuracy: 0.9554\n",
      "Epoch 5/20\n",
      "98/98 [==============================] - 513s 5s/step - loss: 0.2448 - accuracy: 0.9105 - val_loss: 0.1222 - val_accuracy: 0.9643\n",
      "Epoch 6/20\n",
      "98/98 [==============================] - 514s 5s/step - loss: 0.2149 - accuracy: 0.9308 - val_loss: 0.1052 - val_accuracy: 0.9682\n",
      "Epoch 7/20\n",
      "98/98 [==============================] - 561s 6s/step - loss: 0.1941 - accuracy: 0.9382 - val_loss: 0.0943 - val_accuracy: 0.9694\n",
      "Epoch 8/20\n",
      "98/98 [==============================] - 545s 6s/step - loss: 0.1774 - accuracy: 0.9417 - val_loss: 0.0786 - val_accuracy: 0.9809\n",
      "Epoch 9/20\n",
      "98/98 [==============================] - 530s 5s/step - loss: 0.1604 - accuracy: 0.9501 - val_loss: 0.0700 - val_accuracy: 0.9822\n",
      "Epoch 10/20\n",
      "98/98 [==============================] - 586s 6s/step - loss: 0.1448 - accuracy: 0.9575 - val_loss: 0.0655 - val_accuracy: 0.9834\n",
      "Epoch 11/20\n",
      "98/98 [==============================] - 516s 5s/step - loss: 0.1350 - accuracy: 0.9598 - val_loss: 0.0584 - val_accuracy: 0.9847\n",
      "Epoch 12/20\n",
      "98/98 [==============================] - 514s 5s/step - loss: 0.1234 - accuracy: 0.9630 - val_loss: 0.0526 - val_accuracy: 0.9860\n",
      "Epoch 13/20\n",
      "98/98 [==============================] - 515s 5s/step - loss: 0.1133 - accuracy: 0.9691 - val_loss: 0.0462 - val_accuracy: 0.9885\n",
      "Epoch 14/20\n",
      "98/98 [==============================] - 515s 5s/step - loss: 0.1005 - accuracy: 0.9730 - val_loss: 0.0440 - val_accuracy: 0.9873\n",
      "Epoch 15/20\n",
      "98/98 [==============================] - 512s 5s/step - loss: 0.0965 - accuracy: 0.9723 - val_loss: 0.0390 - val_accuracy: 0.9885\n",
      "Epoch 16/20\n",
      "98/98 [==============================] - 517s 5s/step - loss: 0.0903 - accuracy: 0.9749 - val_loss: 0.0367 - val_accuracy: 0.9911\n",
      "Epoch 17/20\n",
      "98/98 [==============================] - 515s 5s/step - loss: 0.0881 - accuracy: 0.9730 - val_loss: 0.0342 - val_accuracy: 0.9911\n",
      "Epoch 18/20\n",
      "98/98 [==============================] - 515s 5s/step - loss: 0.0784 - accuracy: 0.9752 - val_loss: 0.0332 - val_accuracy: 0.9911\n",
      "Epoch 19/20\n",
      "98/98 [==============================] - 514s 5s/step - loss: 0.0726 - accuracy: 0.9794 - val_loss: 0.0326 - val_accuracy: 0.9911\n",
      "Epoch 20/20\n",
      "98/98 [==============================] - 514s 5s/step - loss: 0.0710 - accuracy: 0.9807 - val_loss: 0.0266 - val_accuracy: 0.9924\n"
     ]
    }
   ],
   "source": [
    "# train the head of the network\n",
    "print(\"[INFO] training head...\")\n",
    "H = model.fit(\n",
    "        aug.flow(trainX, trainY, batch_size=BS),\n",
    "        steps_per_epoch=len(trainX) // BS,\n",
    "        validation_data=(testX, testY),\n",
    "        validation_steps=len(testX) // BS,\n",
    "            epochs=EPOCHS)\n"
   ]
  },
  {
   "cell_type": "code",
   "execution_count": 17,
   "id": "e4ec0cff",
   "metadata": {},
   "outputs": [],
   "source": [
    "predIdxs = model.predict(testX, batch_size=BS)"
   ]
  },
  {
   "cell_type": "code",
   "execution_count": 18,
   "id": "da3a32de",
   "metadata": {},
   "outputs": [],
   "source": [
    "predIdxs = np.argmax(predIdxs, axis=1)\n"
   ]
  },
  {
   "cell_type": "code",
   "execution_count": 19,
   "id": "1ad01404",
   "metadata": {},
   "outputs": [
    {
     "name": "stdout",
     "output_type": "stream",
     "text": [
      "              precision    recall  f1-score   support\n",
      "\n",
      "      silent       0.99      0.99      0.99       384\n",
      "       speak       0.99      0.99      0.99       401\n",
      "\n",
      "    accuracy                           0.99       785\n",
      "   macro avg       0.99      0.99      0.99       785\n",
      "weighted avg       0.99      0.99      0.99       785\n",
      "\n"
     ]
    }
   ],
   "source": [
    "print(classification_report(testY.argmax(axis=1), predIdxs,\n",
    "    target_names=lb.classes_))"
   ]
  },
  {
   "cell_type": "code",
   "execution_count": 20,
   "id": "7edcb03c",
   "metadata": {},
   "outputs": [
    {
     "name": "stdout",
     "output_type": "stream",
     "text": [
      "[INFO] saving mask detector model...\n"
     ]
    }
   ],
   "source": [
    "print(\"[INFO] saving mask detector model...\")\n",
    "model.save(\"mouthes.model\", save_format=\"h5\")"
   ]
  },
  {
   "cell_type": "code",
   "execution_count": 21,
   "id": "3d943988",
   "metadata": {
    "scrolled": true
   },
   "outputs": [
    {
     "data": {
      "image/png": "[encoded data removed]",
      "text/plain": [
       "<Figure size 432x288 with 1 Axes>"
      ]
     },
     "metadata": {},
     "output_type": "display_data"
    }
   ],
   "source": [
    "N = EPOCHS\n",
    "plt.style.use(\"ggplot\")\n",
    "plt.figure()\n",
    "plt.plot(np.arange(0, N), H.history[\"loss\"], label=\"train_loss\")\n",
    "plt.plot(np.arange(0, N), H.history[\"val_loss\"], label=\"val_loss\")\n",
    "plt.plot(np.arange(0, N), H.history[\"accuracy\"], label=\"train_acc\")\n",
    "plt.plot(np.arange(0, N), H.history[\"val_accuracy\"], label=\"val_acc\")\n",
    "plt.title(\"Training Loss and Accuracy\")\n",
    "plt.xlabel(\"Epoch #\")\n",
    "plt.ylabel(\"Loss/Accuracy\")\n",
    "plt.legend(loc=\"lower left\")\n",
    "plt.savefig(\"plot.png\")"
   ]
  },
  {
   "cell_type": "code",
   "execution_count": 24,
   "id": "b8360668",
   "metadata": {},
   "outputs": [],
   "source": [
    "from keras.preprocessing import image\n",
    "import numpy as np\n",
    "from keras.models import load_model\n",
    "def prepare_image(file):\n",
    "    img = image.load_img( file, target_size=(224,224))\n",
    "    img_array = image.img_to_array(img)\n",
    "    img_array_expanded_dims = np.expand_dims(img_array,axis=0)\n",
    "    return preprocess_input(img_array_expanded_dims)\n",
    "validpath=r'C:/Users/xps/Desktop/mask project/valid'\n",
    "import cv2\n",
    "import glob as gb\n",
    "mobile=load_model(\"ResNet50.model\")\n",
    "class_labels=['Mask' ,'Without Mask']\n",
    "files=gb.glob(pathname=str(validpath+'/*.jpg'))\n",
    "for file in files :\n",
    "    preprocessed_image = prepare_image(file)\n",
    "    predictions = mobile.predict(preprocessed_image)\n",
    "    for pred in predictions:\n",
    "        (mask, withoutMask) = pred\n",
    "        label = \"Mask\" if mask > withoutMask else \"No Mask\"\n",
    "    label = \"{}: {:.2f}%\".format(label, max(mask, withoutMask) * 100)\n",
    "    print('status:',label)\n",
    "    "
   ]
  },
  {
   "cell_type": "code",
   "execution_count": 1,
   "id": "fcd5d11a",
   "metadata": {},
   "outputs": [
    {
     "name": "stderr",
     "output_type": "stream",
     "text": [
      "No traceback available to show.\n"
     ]
    },
    {
     "name": "stdout",
     "output_type": "stream",
     "text": [
      " * Serving Flask app \"__main__\" (lazy loading)\n",
      " * Environment: production\n",
      "\u001b[31m   WARNING: This is a development server. Do not use it in a production deployment.\u001b[0m\n",
      "\u001b[2m   Use a production WSGI server instead.\u001b[0m\n",
      " * Debug mode: off\n"
     ]
    },
    {
     "name": "stderr",
     "output_type": "stream",
     "text": [
      " * Running on http://127.0.0.1:3000/ (Press CTRL+C to quit)\n",
      "127.0.0.1 - - [21/May/2022 10:42:30] \"GET / HTTP/1.1\" 200 -\n"
     ]
    },
    {
     "name": "stdout",
     "output_type": "stream",
     "text": [
      "[INFO] starting video stream...\n"
     ]
    },
    {
     "name": "stderr",
     "output_type": "stream",
     "text": [
      "127.0.0.1 - - [21/May/2022 10:42:30] \"GET /static//css/background3.jpg HTTP/1.1\" 308 -\n",
      "127.0.0.1 - - [21/May/2022 10:42:31] \"GET /static/css/background3.jpg HTTP/1.1\" 200 -\n"
     ]
    },
    {
     "name": "stdout",
     "output_type": "stream",
     "text": [
      "[INFO] starting video stream...\n"
     ]
    },
    {
     "name": "stderr",
     "output_type": "stream",
     "text": [
      "127.0.0.1 - - [21/May/2022 10:43:46] \"GET /react_vedio HTTP/1.1\" 200 -\n"
     ]
    },
    {
     "name": "stdout",
     "output_type": "stream",
     "text": [
      "dangerous\n",
      "dangerous\n"
     ]
    }
   ],
   "source": [
    "from flask import Flask,render_template,Response,request\n",
    "from keras.preprocessing import image\n",
    "from keras.applications.vgg16 import preprocess_input\n",
    "from keras.applications.vgg16 import decode_predictions\n",
    "from keras.applications.vgg16 import VGG16\n",
    "from keras.preprocessing.image import img_to_array\n",
    "from keras.models import load_model\n",
    "import imutils\n",
    "import cv2\n",
    "import numpy as np\n",
    "%tb\n",
    "import imutils\n",
    "app = Flask(__name__)\n",
    "def detect_and_predict_mask(frame, faceNet, maskNet):\n",
    "\t# grab the dimensions of the frame and then construct a blob\n",
    "\t# from it\n",
    "\t(h, w) = frame.shape[:2]\n",
    "\tblob = cv2.dnn.blobFromImage(frame, 1.0, (224, 224),\n",
    "\t\t(104.0, 177.0, 123.0))\n",
    "\n",
    "\t# pass the blob through the network and obtain the face detections\n",
    "\tfaceNet.setInput(blob)\n",
    "\tdetections = faceNet.forward()\n",
    "\t#print(detections.shape)\n",
    "\n",
    "\t# initialize our list of faces, their corresponding locations,\n",
    "\t# and the list of predictions from our face mask network\n",
    "\tfaces = []\n",
    "\tlocs = []\n",
    "\tpreds = []\n",
    "\n",
    "\t# loop over the detections\n",
    "\tfor i in range(0, detections.shape[2]):\n",
    "\t\t# extract the confidence (i.e., probability) associated with\n",
    "\t\t# the detection\n",
    "\t\tconfidence = detections[0, 0, i, 2]\n",
    "\n",
    "\t\t# filter out weak detections by ensuring the confidence is\n",
    "\t\t# greater than the minimum confidence\n",
    "\t\tif confidence > 0.5:\n",
    "\t\t\t# compute the (x, y)-coordinates of the bounding box for\n",
    "\t\t\t# the object\n",
    "\t\t\tbox = detections[0, 0, i, 3:7] * np.array([w, h, w, h])\n",
    "\t\t\t(startX, startY, endX, endY) = box.astype(\"int\")\n",
    "\n",
    "\t\t\t# ensure the bounding boxes fall within the dimensions of\n",
    "\t\t\t# the frame\n",
    "\t\t\t(startX, startY) = (max(0, startX), max(0, startY))\n",
    "\t\t\t(endX, endY) = (min(w - 1, endX), min(h - 1, endY))\n",
    "\n",
    "\t\t\t# extract the face ROI, convert it from BGR to RGB channel\n",
    "\t\t\t# ordering, resize it to 224x224, and preprocess it\n",
    "\t\t\tface = frame[startY:endY, startX:endX]\n",
    "\t\t\tface = cv2.cvtColor(face, cv2.COLOR_BGR2RGB)\n",
    "\t\t\tface = cv2.resize(face, (224, 224))\n",
    "\t\t\tface = img_to_array(face)\n",
    "\t\t\tface = preprocess_input(face)\n",
    "\n",
    "\t\t\t# add the face and bounding boxes to their respective\n",
    "\t\t\t# lists\n",
    "\t\t\tfaces.append(face)\n",
    "\t\t\tlocs.append((startX, startY, endX, endY))\n",
    "\n",
    "\t# only make a predictions if at least one face was detected\n",
    "\tif len(faces) > 0:\n",
    "\t\t# for faster inference we'll make batch predictions on *all*\n",
    "\t\t# faces at the same time rather than one-by-one predictions\n",
    "\t\t# in the above `for` loop\n",
    "\t\tfaces = np.array(faces, dtype=\"float32\")\n",
    "\t\tpreds = maskNet.predict(faces, batch_size=32)\n",
    "\n",
    "\t# return a 2-tuple of the face locations and their corresponding\n",
    "\t# locations\n",
    "\treturn (locs, preds)\n",
    "\n",
    "# load our serialized face detector model from disk\n",
    "prototxtPath = r\"C:/Users/xps/Desktop/mask project/face_detector/deploy.prototxt\"\n",
    "weightsPath = r\"C:/Users/xps/Desktop/mask project/face_detector/res10_300x300_ssd_iter_140000.caffemodel\"\n",
    "faceNet = cv2.dnn.readNet(prototxtPath, weightsPath)\n",
    "path=\"C:/Users/xps/Desktop/mask project/vgg.model\"\n",
    "# load the face mask detector model from disk\n",
    "maskNet = load_model(\"vgg.model\")\n",
    "def mask():\n",
    "    print(\"[INFO] starting video stream...\")\n",
    "    #vs = VideoStream(src=0).start()\n",
    "    camera=cv2.VideoCapture(0)\n",
    "    # loop over the frames from the video stream\n",
    "    while True:\n",
    "    # grab the frame from the threaded video stream and resize it\n",
    "    # to have a maximum width of 400 pixels\n",
    "   \n",
    "        success,frame = camera.read()\n",
    "        if not success:\n",
    "            break\n",
    "        else:\n",
    "            frame = imutils.resize(frame, width=800)\n",
    "\n",
    "            # detect faces in the frame and determine if they are wearing a\n",
    "            # face mask or not\n",
    "            (locs, preds) = detect_and_predict_mask(frame, faceNet, maskNet)\n",
    "\n",
    "            # loop over the detected face locations and their corresponding\n",
    "            # locations\n",
    "            for (box, pred) in zip(locs, preds):\n",
    "                # unpack the bounding box and predictions\n",
    "                (startX, startY, endX, endY) = box\n",
    "                (mask, withoutMask) = pred\n",
    "\n",
    "                # determine the class label and color we'll use to draw\n",
    "                # the bounding box and text\n",
    "                label = \"Mask\" if mask > withoutMask else \"No Mask\"\n",
    "                color = (0, 255, 0) if label == \"Mask\" else (0, 0, 255)\n",
    "                if label== \"No Mask\":\n",
    "                    print(\"dangerous\")\n",
    "                    gray=cv2.cvtColor(frame,cv2.COLOR_BGR2GRAY)\n",
    "                # include the probability in the label\n",
    "                label = \"{}: {:.2f}%\".format(label, max(mask, withoutMask) * 100)\n",
    "\n",
    "                # display the label and bounding box rectangle on the output\n",
    "                # frame\n",
    "                cv2.putText(frame, label, (startX, startY - 10),\n",
    "                    cv2.FONT_HERSHEY_SIMPLEX, 0.45, color, 2)\n",
    "                cv2.rectangle(frame, (startX, startY), (endX, endY), color, 2)\n",
    "            ret, buffer = cv2.imencode('.jpg', frame)\n",
    "            frame = buffer.tobytes()\n",
    "            yield (b'--frame\\r\\n'\n",
    "                    b'Content-Type: image/jpeg\\r\\n\\r\\n' + frame + b'\\r\\n')\n",
    "\n",
    "@app.route('/', methods=['POST', \"get\"])\n",
    "def reaction():\n",
    "        return render_template('react.html')\n",
    "@app.route('/react_vedio', methods=['POST', \"get\"])\n",
    "def react_vedio():\n",
    "        return Response(mask(),\n",
    "                    mimetype=\"multipart/x-mixed-replace; boundary=frame\")  \n",
    "if __name__ == '__main__':\n",
    "    app.run(port=3000)\n"
   ]
  },
  {
   "cell_type": "code",
   "execution_count": 25,
   "id": "e71efd33",
   "metadata": {},
   "outputs": [],
   "source": [
    "from keras.models import load_model\n",
    "from keras.preprocessing.image import img_to_array\n",
    "from keras.preprocessing import image\n",
    "import cv2\n",
    "import numpy as np\n",
    "import dlib\n",
    "from tensorflow.keras.applications.resnet50 import ResNet50,preprocess_input, decode_predictions\n",
    "classifier =load_model(\"ResNet50.model\")\n",
    "face_detection=cv2.CascadeClassifier('haarcascade_frontalface_default.xml')\n",
    "path=\"C:/Users/xps/Desktop/test/shape_predictor_68_face_landmarks.dat\"\n",
    "face_detector=dlib.shape_predictor(path)\n",
    "detector=dlib.get_frontal_face_detector()\n",
    "cap = cv2.VideoCapture(0)\n",
    "while True:\n",
    "    # Grab a single frame of video\n",
    "    ret, frame = cap.read()\n",
    "    if ret== False :\n",
    "        break\n",
    "    class_labels=['silent','speak']\n",
    "    gray=cv2.cvtColor(frame,cv2.COLOR_BGR2GRAY)\n",
    "    face=detector(gray)\n",
    "    faces = face_detection.detectMultiScale(gray,1.3,4)\n",
    "    for fac in face:\n",
    "            landmarks=face_detector(gray,fac)\n",
    "            x5=landmarks.part(3).x\n",
    "            y5=landmarks.part(3).y\n",
    "\n",
    "            for (x,y,w,h) in faces:\n",
    "                \n",
    "                cv2.rectangle(frame,(x5,y5),(x+w,y+h),(0,255,0),2)\n",
    "                roi_gray = frame[y5:y+h,x5:x+w]\n",
    "                if np.sum([roi_gray])!=0:\n",
    "                    roi_gray = cv2.resize(roi_gray,(224,224),interpolation=cv2.INTER_AREA)\n",
    "\n",
    "                    roi = roi_gray.astype('float')/255.0\n",
    "                    roi = img_to_array(roi)\n",
    "                    roi=preprocess_input(roi)\n",
    "                    roi = np.expand_dims(roi,axis=0)\n",
    "\n",
    "                # make a prediction on the ROI, then lookup the class\n",
    "\n",
    "                    preds = classifier.predict(roi)[0]\n",
    "                    label=class_labels[preds.argmax()]\n",
    "                    \n",
    "                    \n",
    "                    label_position = (x,y)\n",
    "                    cv2.putText(frame,label,label_position,cv2.FONT_HERSHEY_SIMPLEX,2,(0,255,0),2)\n",
    "                else:\n",
    "                    cv2.putText(frame,'No Face Found',(20,60),cv2.FONT_HERSHEY_SIMPLEX,2,(0,255,0),3)\n",
    "    cv2.imshow('Emotion Detector',frame)\n",
    "    if cv2.waitKey(1) & 0xFF == ord('q'):\n",
    "        break\n",
    "\n",
    "cap.release()\n",
    "cv2.destroyAllWindows()"
   ]
  },
  {
   "cell_type": "code",
   "execution_count": null,
   "id": "761b1430",
   "metadata": {},
   "outputs": [],
   "source": [
    "dir=['ahmed sayed','abdelhakem','ali','islam','ashraf','yasser','ahmed drahim','Abo bakr','ahmed ashref'\n",
    ",'ahmed hesham','ahmed mosad','ahmed saaid','ahmed samir','ahmed shaban','ahmed shalan','amer yasser',\n",
    "'amged saber','amr eissa','amr salam','bassem','ezz-eldin','fady maher','Hassan mohamed','ibrahim',\n",
    "'ibrahim ali','ibrahim walid','islam elsawy','maged essam','mahmoud salma','mahmoud shokry','mahomed drahim',\n",
    " 'mamdouh nabil','moaz hesham','mohamed adel','mohamed aymen','mohamed gomaa','mohamed ramden','mohmed emad'\n",
    " ,'mostafa abdo','mostafa mahmoud'\n",
    " ,'omar mahmoud','omar tharwat','ramdan','saif emad','saif mohamed','shreif ekramy','shreif samy','taher elshikh'\n",
    " ,'yousef mahmoud','zeyad fayek']"
   ]
  }
 ],
 "metadata": {
  "interpreter": {
   "hash": "10c443a2d889fd6c657ec21f118344e9972d55984ca02fde88953ef6c89dc2c7"
  },
  "kernelspec": {
   "display_name": "Python 3 (ipykernel)",
   "language": "python",
   "name": "python3"
  },
  "language_info": {
   "codemirror_mode": {
    "name": "ipython",
    "version": 3
   },
   "file_extension": ".py",
   "mimetype": "text/x-python",
   "name": "python",
   "nbconvert_exporter": "python",
   "pygments_lexer": "ipython3",
   "version": "3.9.7"
  }
 },
 "nbformat": 4,
 "nbformat_minor": 5
}
