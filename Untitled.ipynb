{
 "cells": [
  {
   "cell_type": "code",
   "execution_count": 3,
   "id": "d1682551",
   "metadata": {},
   "outputs": [],
   "source": [
    "import cv2\n",
    "from keras.models import Sequential\n",
    "from keras.layers import Conv2D, MaxPooling2D, Dense, Dropout, Flatten\n",
    "from tensorflow.keras.optimizers import Adam \n",
    "from keras.preprocessing.image import ImageDataGenerator\n"
   ]
  },
  {
   "cell_type": "code",
   "execution_count": 30,
   "id": "3cc124a8",
   "metadata": {},
   "outputs": [],
   "source": [
    "# Initialize image data generator with rescaling\n",
    "train_data_gen = ImageDataGenerator(rescale=1./255)\n",
    "validation_data_gen = ImageDataGenerator(rescale=1./255)"
   ]
  },
  {
   "cell_type": "code",
   "execution_count": 31,
   "id": "056d1c61",
   "metadata": {},
   "outputs": [
    {
     "name": "stdout",
     "output_type": "stream",
     "text": [
      "Found 1454 images belonging to 2 classes.\n"
     ]
    }
   ],
   "source": [
    "# Preprocess all test images\n",
    "train_generator = train_data_gen.flow_from_directory(\n",
    "        'final',\n",
    "        target_size=(48, 48),\n",
    "        batch_size=32,\n",
    "        color_mode=\"grayscale\",\n",
    "        class_mode='categorical')"
   ]
  },
  {
   "cell_type": "code",
   "execution_count": 32,
   "id": "a8cd81db",
   "metadata": {},
   "outputs": [
    {
     "name": "stdout",
     "output_type": "stream",
     "text": [
      "Found 790 images belonging to 2 classes.\n"
     ]
    }
   ],
   "source": [
    "validation_generator = validation_data_gen.flow_from_directory(\n",
    "        'validation',\n",
    "        target_size=(48, 48),\n",
    "        batch_size=32,\n",
    "        color_mode=\"grayscale\",\n",
    "        class_mode='categorical')\n"
   ]
  },
  {
   "cell_type": "code",
   "execution_count": 33,
   "id": "1c01f7ce",
   "metadata": {},
   "outputs": [],
   "source": [
    "# create model structure\n",
    "emotion_model = Sequential()\n",
    "\n",
    "emotion_model.add(Conv2D(32, kernel_size=(3, 3), activation='relu', input_shape=(48, 48, 1)))\n",
    "emotion_model.add(Conv2D(64, kernel_size=(3, 3), activation='relu'))\n",
    "emotion_model.add(MaxPooling2D(pool_size=(2, 2)))\n",
    "emotion_model.add(Dropout(0.25))\n",
    "\n",
    "emotion_model.add(Conv2D(128, kernel_size=(3, 3), activation='relu'))\n",
    "emotion_model.add(MaxPooling2D(pool_size=(2, 2)))\n",
    "emotion_model.add(Conv2D(128, kernel_size=(3, 3), activation='relu'))\n",
    "emotion_model.add(MaxPooling2D(pool_size=(2, 2)))\n",
    "emotion_model.add(Dropout(0.25))\n",
    "\n",
    "emotion_model.add(Flatten())\n",
    "emotion_model.add(Dense(128, activation='relu'))\n",
    "emotion_model.add(Dropout(0.5))\n",
    "emotion_model.add(Dense(2, activation='softmax'))"
   ]
  },
  {
   "cell_type": "code",
   "execution_count": 34,
   "id": "6680fdc3",
   "metadata": {},
   "outputs": [],
   "source": [
    "cv2.ocl.setUseOpenCL(False)\n",
    "\n",
    "emotion_model.compile(loss='binary_crossentropy', optimizer=Adam(lr=0.0001, decay=1e-6), metrics=['accuracy'])\n"
   ]
  },
  {
   "cell_type": "code",
   "execution_count": 48,
   "id": "4cea9137",
   "metadata": {},
   "outputs": [
    {
     "name": "stdout",
     "output_type": "stream",
     "text": [
      "Epoch 1/50\n"
     ]
    },
    {
     "name": "stderr",
     "output_type": "stream",
     "text": [
      "C:\\Users\\xps\\AppData\\Local\\Temp/ipykernel_4496/4280591080.py:2: UserWarning: `Model.fit_generator` is deprecated and will be removed in a future version. Please use `Model.fit`, which supports generators.\n",
      "  emotion_model_info = emotion_model.fit_generator(\n"
     ]
    },
    {
     "name": "stdout",
     "output_type": "stream",
     "text": [
      "45/45 [==============================] - ETA: 0s - loss: 0.3563 - accuracy: 0.8622WARNING:tensorflow:Your input ran out of data; interrupting training. Make sure that your dataset or generator can generate at least `steps_per_epoch * epochs` batches (in this case, 30 batches). You may need to use the repeat() function when building your dataset.\n",
      "45/45 [==============================] - 12s 266ms/step - loss: 0.3563 - accuracy: 0.8622 - val_loss: 0.3778 - val_accuracy: 0.8633\n",
      "Epoch 2/50\n",
      "45/45 [==============================] - 10s 223ms/step - loss: 0.3648 - accuracy: 0.8558\n",
      "Epoch 3/50\n",
      "45/45 [==============================] - 12s 259ms/step - loss: 0.3356 - accuracy: 0.8722\n",
      "Epoch 4/50\n",
      "45/45 [==============================] - 10s 220ms/step - loss: 0.3346 - accuracy: 0.8650\n",
      "Epoch 5/50\n",
      "45/45 [==============================] - 11s 237ms/step - loss: 0.3265 - accuracy: 0.8769\n",
      "Epoch 6/50\n",
      "45/45 [==============================] - 11s 245ms/step - loss: 0.3240 - accuracy: 0.8727\n",
      "Epoch 7/50\n",
      "45/45 [==============================] - 12s 261ms/step - loss: 0.3087 - accuracy: 0.8783\n",
      "Epoch 8/50\n",
      "45/45 [==============================] - 11s 251ms/step - loss: 0.3076 - accuracy: 0.8762\n",
      "Epoch 9/50\n",
      "45/45 [==============================] - 11s 252ms/step - loss: 0.2925 - accuracy: 0.8896\n",
      "Epoch 10/50\n",
      "45/45 [==============================] - 11s 251ms/step - loss: 0.2872 - accuracy: 0.8875\n",
      "Epoch 11/50\n",
      "45/45 [==============================] - 12s 258ms/step - loss: 0.2739 - accuracy: 0.8924\n",
      "Epoch 12/50\n",
      "45/45 [==============================] - 10s 224ms/step - loss: 0.2914 - accuracy: 0.8861\n",
      "Epoch 13/50\n",
      "45/45 [==============================] - 10s 230ms/step - loss: 0.2754 - accuracy: 0.8931\n",
      "Epoch 14/50\n",
      "45/45 [==============================] - 11s 253ms/step - loss: 0.2561 - accuracy: 0.9037\n",
      "Epoch 15/50\n",
      "45/45 [==============================] - 11s 239ms/step - loss: 0.2652 - accuracy: 0.8903\n",
      "Epoch 16/50\n",
      "45/45 [==============================] - 11s 235ms/step - loss: 0.2691 - accuracy: 0.8966\n",
      "Epoch 17/50\n",
      "45/45 [==============================] - 11s 250ms/step - loss: 0.2461 - accuracy: 0.8966\n",
      "Epoch 18/50\n",
      "45/45 [==============================] - 11s 241ms/step - loss: 0.2588 - accuracy: 0.8875\n",
      "Epoch 19/50\n",
      "45/45 [==============================] - 11s 246ms/step - loss: 0.2428 - accuracy: 0.9058\n",
      "Epoch 20/50\n",
      "45/45 [==============================] - 11s 249ms/step - loss: 0.2283 - accuracy: 0.9121\n",
      "Epoch 21/50\n",
      "45/45 [==============================] - 11s 242ms/step - loss: 0.2282 - accuracy: 0.9107\n",
      "Epoch 22/50\n",
      "45/45 [==============================] - 10s 216ms/step - loss: 0.2235 - accuracy: 0.9142\n",
      "Epoch 23/50\n",
      "45/45 [==============================] - 10s 222ms/step - loss: 0.2238 - accuracy: 0.9163\n",
      "Epoch 24/50\n",
      "45/45 [==============================] - 11s 242ms/step - loss: 0.2189 - accuracy: 0.9170\n",
      "Epoch 25/50\n",
      "45/45 [==============================] - 11s 238ms/step - loss: 0.2031 - accuracy: 0.9311\n",
      "Epoch 26/50\n",
      "45/45 [==============================] - 11s 242ms/step - loss: 0.2067 - accuracy: 0.9233\n",
      "Epoch 27/50\n",
      "45/45 [==============================] - 11s 239ms/step - loss: 0.1989 - accuracy: 0.9156\n",
      "Epoch 28/50\n",
      "45/45 [==============================] - 11s 240ms/step - loss: 0.1961 - accuracy: 0.9290\n",
      "Epoch 29/50\n",
      "45/45 [==============================] - 11s 253ms/step - loss: 0.1865 - accuracy: 0.9248\n",
      "Epoch 30/50\n",
      "45/45 [==============================] - 11s 232ms/step - loss: 0.1826 - accuracy: 0.9262\n",
      "Epoch 31/50\n",
      "45/45 [==============================] - 10s 232ms/step - loss: 0.1851 - accuracy: 0.9325\n",
      "Epoch 32/50\n",
      "45/45 [==============================] - 11s 249ms/step - loss: 0.1727 - accuracy: 0.9346\n",
      "Epoch 33/50\n",
      "45/45 [==============================] - 11s 241ms/step - loss: 0.1697 - accuracy: 0.9346\n",
      "Epoch 34/50\n",
      "45/45 [==============================] - 11s 242ms/step - loss: 0.1620 - accuracy: 0.9346\n",
      "Epoch 35/50\n",
      "45/45 [==============================] - 11s 236ms/step - loss: 0.1615 - accuracy: 0.9346\n",
      "Epoch 36/50\n",
      "45/45 [==============================] - 11s 243ms/step - loss: 0.1587 - accuracy: 0.9444\n",
      "Epoch 37/50\n",
      "45/45 [==============================] - 11s 242ms/step - loss: 0.1471 - accuracy: 0.9466\n",
      "Epoch 38/50\n",
      "45/45 [==============================] - 11s 245ms/step - loss: 0.1379 - accuracy: 0.9473\n",
      "Epoch 39/50\n",
      "45/45 [==============================] - 11s 249ms/step - loss: 0.1557 - accuracy: 0.9444\n",
      "Epoch 40/50\n",
      "45/45 [==============================] - 10s 226ms/step - loss: 0.1690 - accuracy: 0.9297\n",
      "Epoch 41/50\n",
      "45/45 [==============================] - 10s 232ms/step - loss: 0.1395 - accuracy: 0.9480\n",
      "Epoch 42/50\n",
      "45/45 [==============================] - 10s 220ms/step - loss: 0.1369 - accuracy: 0.9501\n",
      "Epoch 43/50\n",
      "45/45 [==============================] - 11s 239ms/step - loss: 0.1439 - accuracy: 0.9501\n",
      "Epoch 44/50\n",
      "45/45 [==============================] - 12s 258ms/step - loss: 0.1448 - accuracy: 0.9466\n",
      "Epoch 45/50\n",
      "45/45 [==============================] - 11s 232ms/step - loss: 0.1358 - accuracy: 0.9536\n",
      "Epoch 46/50\n",
      "45/45 [==============================] - 11s 247ms/step - loss: 0.1090 - accuracy: 0.9662\n",
      "Epoch 47/50\n",
      "45/45 [==============================] - 11s 234ms/step - loss: 0.1294 - accuracy: 0.9578\n",
      "Epoch 48/50\n",
      "45/45 [==============================] - 11s 247ms/step - loss: 0.1173 - accuracy: 0.9571\n",
      "Epoch 49/50\n",
      "45/45 [==============================] - 12s 266ms/step - loss: 0.1164 - accuracy: 0.9571\n",
      "Epoch 50/50\n",
      "45/45 [==============================] - 12s 257ms/step - loss: 0.0993 - accuracy: 0.9641\n"
     ]
    }
   ],
   "source": [
    "# Train the neural network/model\n",
    "emotion_model_info = emotion_model.fit_generator(\n",
    "        train_generator,\n",
    "        steps_per_epoch=45,\n",
    "        validation_data=validation_generator,\n",
    "        validation_steps=30,\n",
    "        epochs=50\n",
    "        \n",
    "       )\n"
   ]
  },
  {
   "cell_type": "code",
   "execution_count": 4,
   "id": "b4443c9d",
   "metadata": {},
   "outputs": [
    {
     "ename": "NameError",
     "evalue": "name 'emotion_model' is not defined",
     "output_type": "error",
     "traceback": [
      "\u001b[1;31m---------------------------------------------------------------------------\u001b[0m",
      "\u001b[1;31mNameError\u001b[0m                                 Traceback (most recent call last)",
      "\u001b[1;32m~\\AppData\\Local\\Temp/ipykernel_564/450286381.py\u001b[0m in \u001b[0;36m<module>\u001b[1;34m\u001b[0m\n\u001b[0;32m      1\u001b[0m \u001b[1;32mfrom\u001b[0m \u001b[0mkeras\u001b[0m\u001b[1;33m.\u001b[0m\u001b[0mmodels\u001b[0m \u001b[1;32mimport\u001b[0m \u001b[0mmodel_from_json\u001b[0m\u001b[1;33m\u001b[0m\u001b[1;33m\u001b[0m\u001b[0m\n\u001b[0;32m      2\u001b[0m \u001b[1;33m\u001b[0m\u001b[0m\n\u001b[1;32m----> 3\u001b[1;33m \u001b[0mmodel_json\u001b[0m \u001b[1;33m=\u001b[0m \u001b[0memotion_model\u001b[0m\u001b[1;33m.\u001b[0m\u001b[0mto_json\u001b[0m\u001b[1;33m(\u001b[0m\u001b[1;33m)\u001b[0m\u001b[1;33m\u001b[0m\u001b[1;33m\u001b[0m\u001b[0m\n\u001b[0m\u001b[0;32m      4\u001b[0m \u001b[1;32mwith\u001b[0m \u001b[0mopen\u001b[0m\u001b[1;33m(\u001b[0m\u001b[1;34m\"emotion_model.json\"\u001b[0m\u001b[1;33m,\u001b[0m \u001b[1;34m\"w\"\u001b[0m\u001b[1;33m)\u001b[0m \u001b[1;32mas\u001b[0m \u001b[0mjson_file\u001b[0m\u001b[1;33m:\u001b[0m\u001b[1;33m\u001b[0m\u001b[1;33m\u001b[0m\u001b[0m\n\u001b[0;32m      5\u001b[0m     \u001b[0mjson_file\u001b[0m\u001b[1;33m.\u001b[0m\u001b[0mwrite\u001b[0m\u001b[1;33m(\u001b[0m\u001b[0mmodel_json\u001b[0m\u001b[1;33m)\u001b[0m\u001b[1;33m\u001b[0m\u001b[1;33m\u001b[0m\u001b[0m\n",
      "\u001b[1;31mNameError\u001b[0m: name 'emotion_model' is not defined"
     ]
    }
   ],
   "source": [
    "from keras.models import model_from_json\n",
    "\n",
    "model_json = emotion_model.to_json()\n",
    "with open(\"emotion_model.json\", \"w\") as json_file:\n",
    "    json_file.write(model_json)\n",
    "\n",
    "# save trained model weight in .h5 file\n",
    "emotion_model.save_weights('emotion_model.h5')"
   ]
  },
  {
   "cell_type": "code",
   "execution_count": null,
   "id": "187853c9",
   "metadata": {},
   "outputs": [
    {
     "name": "stdout",
     "output_type": "stream",
     "text": [
      "here\n",
      "Loaded model from disk\n"
     ]
    }
   ],
   "source": [
    "import cv2\n",
    "from keras.models import model_from_json\n",
    "\n",
    "import numpy as np\n",
    "emotion_dict = {0: \"close\", 1: \"open\"}\n",
    "\n",
    "# load json and create model\n",
    "path= \"C://Users/xps/Desktop/mouth/emotion_model.json\"\n",
    "json_file = open(path,'r')\n",
    "print(\"here\")\n",
    "loaded_model_json = json_file.read()\n",
    "json_file.close()\n",
    "emotion_model = model_from_json(loaded_model_json)\n",
    "\n",
    "# load weights into new model\n",
    "path2=\"C://Users/xps/Desktop/mouth/emotion_model.h5\"\n",
    "emotion_model.load_weights(path2)\n",
    "print(\"Loaded model from disk\")\n",
    "\n",
    "# start the webcam feed\n",
    "#cap = cv2.VideoCapture(0)\n",
    "\n",
    "# pass here your video path\n",
    "# you may download one from here : https://www.pexels.com/video/three-girls-laughing-5273028/\n",
    "cap = cv2.VideoCapture(0)\n",
    "\n",
    "while True:\n",
    "    # Find haar cascade to draw bounding box around face\n",
    "    ret, frame = cap.read()\n",
    "    frame = cv2.resize(frame, (1280, 720))\n",
    "    if not ret and len(frame)==0:\n",
    "        break\n",
    "    path3=\"C:/Users/xps/Desktop/mouth/haarcascade_frontalface_default.xml\"\n",
    "    face_detector = cv2.CascadeClassifier(path3)\n",
    "    gray_frame = cv2.cvtColor(frame, cv2.COLOR_BGR2GRAY)\n",
    "\n",
    "    # detect faces available on camera\n",
    "    num_faces = face_detector.detectMultiScale(gray_frame, scaleFactor=1.3, minNeighbors=5)\n",
    "\n",
    "    # take each face available on the camera and Preprocess it\n",
    "    for (x, y, w, h) in num_faces:\n",
    "        cv2.rectangle(frame, (x, y-50), (x+w, y+h+10), (0, 255, 0), 4)\n",
    "        roi_gray_frame = gray_frame[y:y + h, x:x + w]\n",
    "        cropped_img = np.expand_dims(np.expand_dims(cv2.resize(roi_gray_frame, (48, 48)), -1), 0)\n",
    "\n",
    "        # predict the emotions\n",
    "        emotion_prediction = emotion_model.predict(cropped_img)\n",
    "        maxindex = int(np.argmax(emotion_prediction))\n",
    "        cv2.putText(frame, emotion_dict[maxindex], (x+5, y-20), cv2.FONT_HERSHEY_SIMPLEX, 1, (255, 0, 0), 2, cv2.LINE_AA)\n",
    "    cv2.imshow('Emotion Detection', frame)\n",
    "    if cv2.waitKey(1) & 0xFF == ord('q'):\n",
    "        break\n",
    "\n",
    "cap.release()\n",
    "cv2.destroyAllWindows()"
   ]
  },
  {
   "cell_type": "code",
   "execution_count": null,
   "id": "33dd8aeb",
   "metadata": {},
   "outputs": [],
   "source": []
  }
 ],
 "metadata": {
  "kernelspec": {
   "display_name": "Python 3 (ipykernel)",
   "language": "python",
   "name": "python3"
  },
  "language_info": {
   "codemirror_mode": {
    "name": "ipython",
    "version": 3
   },
   "file_extension": ".py",
   "mimetype": "text/x-python",
   "name": "python",
   "nbconvert_exporter": "python",
   "pygments_lexer": "ipython3",
   "version": "3.9.7"
  }
 },
 "nbformat": 4,
 "nbformat_minor": 5
}
